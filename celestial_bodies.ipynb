{
 "cells": [
  {
   "cell_type": "markdown",
   "metadata": {
    "id": "8YAk8lq3W-yd"
   },
   "source": [
    "# DS3 Datathon 2024 - Celestial Bodies"
   ]
  },
  {
   "cell_type": "markdown",
   "metadata": {
    "id": "7Ymxbi7zLDY2"
   },
   "source": [
    "This notebook is meant to generate predictions for celestial bodies dataset for DS3 Datathon 2024.\n",
    "\n",
    "Created by:\n",
    "\n",
    "* [Borys Łangowicz (neloduka_sobe)](https://www.linkedin.com/in/borys-langowicz/)\n",
    "\n",
    "* [Martin Pellikka](https://www.linkedin.com/in/martinpellikka/)\n",
    "\n",
    "\n",
    "\n",
    "[Link to the kaggle competition](https://www.kaggle.com/competitions/ds3-datathon-celestial-labelling)"
   ]
  },
  {
   "cell_type": "markdown",
   "metadata": {
    "id": "6GcaNYWBY7NE"
   },
   "source": [
    "## Imports"
   ]
  },
  {
   "cell_type": "code",
   "execution_count": 1,
   "metadata": {
    "id": "bDkDDezxYvHD"
   },
   "outputs": [
    {
     "name": "stdout",
     "output_type": "stream",
     "text": [
      "Requirement already satisfied: pandas in /opt/conda/lib/python3.11/site-packages (from -r requirements.txt (line 1)) (2.1.3)\n",
      "Requirement already satisfied: numpy in /opt/conda/lib/python3.11/site-packages (from -r requirements.txt (line 2)) (1.24.4)\n",
      "Requirement already satisfied: seaborn in /opt/conda/lib/python3.11/site-packages (from -r requirements.txt (line 3)) (0.13.0)\n",
      "Requirement already satisfied: matplotlib in /opt/conda/lib/python3.11/site-packages (from -r requirements.txt (line 4)) (3.8.2)\n",
      "Requirement already satisfied: scikit-learn in /opt/conda/lib/python3.11/site-packages (from -r requirements.txt (line 5)) (1.3.2)\n",
      "Requirement already satisfied: xgboost in /opt/conda/lib/python3.11/site-packages (from -r requirements.txt (line 6)) (2.0.3)\n",
      "Requirement already satisfied: python-dateutil>=2.8.2 in /opt/conda/lib/python3.11/site-packages (from pandas->-r requirements.txt (line 1)) (2.8.2)\n",
      "Requirement already satisfied: pytz>=2020.1 in /opt/conda/lib/python3.11/site-packages (from pandas->-r requirements.txt (line 1)) (2023.3.post1)\n",
      "Requirement already satisfied: tzdata>=2022.1 in /opt/conda/lib/python3.11/site-packages (from pandas->-r requirements.txt (line 1)) (2023.3)\n",
      "Requirement already satisfied: contourpy>=1.0.1 in /opt/conda/lib/python3.11/site-packages (from matplotlib->-r requirements.txt (line 4)) (1.2.0)\n",
      "Requirement already satisfied: cycler>=0.10 in /opt/conda/lib/python3.11/site-packages (from matplotlib->-r requirements.txt (line 4)) (0.12.1)\n",
      "Requirement already satisfied: fonttools>=4.22.0 in /opt/conda/lib/python3.11/site-packages (from matplotlib->-r requirements.txt (line 4)) (4.46.0)\n",
      "Requirement already satisfied: kiwisolver>=1.3.1 in /opt/conda/lib/python3.11/site-packages (from matplotlib->-r requirements.txt (line 4)) (1.4.5)\n",
      "Requirement already satisfied: packaging>=20.0 in /opt/conda/lib/python3.11/site-packages (from matplotlib->-r requirements.txt (line 4)) (23.2)\n",
      "Requirement already satisfied: pillow>=8 in /opt/conda/lib/python3.11/site-packages (from matplotlib->-r requirements.txt (line 4)) (10.1.0)\n",
      "Requirement already satisfied: pyparsing>=2.3.1 in /opt/conda/lib/python3.11/site-packages (from matplotlib->-r requirements.txt (line 4)) (3.1.1)\n",
      "Requirement already satisfied: scipy>=1.5.0 in /opt/conda/lib/python3.11/site-packages (from scikit-learn->-r requirements.txt (line 5)) (1.11.4)\n",
      "Requirement already satisfied: joblib>=1.1.1 in /opt/conda/lib/python3.11/site-packages (from scikit-learn->-r requirements.txt (line 5)) (1.3.2)\n",
      "Requirement already satisfied: threadpoolctl>=2.0.0 in /opt/conda/lib/python3.11/site-packages (from scikit-learn->-r requirements.txt (line 5)) (3.2.0)\n",
      "Requirement already satisfied: six>=1.5 in /opt/conda/lib/python3.11/site-packages (from python-dateutil>=2.8.2->pandas->-r requirements.txt (line 1)) (1.16.0)\n"
     ]
    }
   ],
   "source": [
    "!pip install -r requirements.txt\n",
    "\n",
    "# Numbers\n",
    "import pandas as pd\n",
    "import numpy as np\n",
    "\n",
    "# Graphs\n",
    "import seaborn as sns\n",
    "import matplotlib.pyplot as plt\n",
    "\n",
    "# ML\n",
    "import sklearn\n",
    "import sklearn.model_selection\n",
    "from sklearn.metrics import accuracy_score\n",
    "\n",
    "from sklearn.ensemble import RandomForestClassifier, AdaBoostClassifier\n",
    "\n",
    "from xgboost import XGBClassifier\n",
    "from xgboost import plot_importance\n",
    "\n",
    "from sklearn.svm import LinearSVC\n",
    "from sklearn.feature_selection import SelectFromModel\n",
    "import random\n",
    "\n",
    "# Pipeline\n",
    "from sklearn.model_selection import train_test_split # For train/test splits\n",
    "from sklearn.feature_selection import VarianceThreshold # Feature selector\n",
    "from sklearn.pipeline import Pipeline # For setting up pipeline\n",
    "\n",
    "# Various pre-processing steps\n",
    "from sklearn.preprocessing import Normalizer, StandardScaler, MinMaxScaler, PowerTransformer, MaxAbsScaler, LabelEncoder\n",
    "from sklearn.model_selection import GridSearchCV # For optimization\n",
    "\n",
    "from sklearn.metrics import balanced_accuracy_score"
   ]
  },
  {
   "cell_type": "markdown",
   "metadata": {
    "id": "jwuAeaN-AW6d"
   },
   "source": [
    "### Setting final/develpment mode\n",
    "\n",
    "As it is a datathon submission, we use entirety of the dataset, to generate more accurate results for the final submission."
   ]
  },
  {
   "cell_type": "code",
   "execution_count": 2,
   "metadata": {
    "id": "T676KjNaQsYp"
   },
   "outputs": [],
   "source": [
    "generating_final_result = True"
   ]
  },
  {
   "cell_type": "markdown",
   "metadata": {
    "id": "9wNLR6kmAazO"
   },
   "source": [
    "### Fixing seeds\n",
    "\n",
    "[Source](https://sklearn-genetic-opt.readthedocs.io/en/stable/tutorials/reproducibility.html)"
   ]
  },
  {
   "cell_type": "code",
   "execution_count": 3,
   "metadata": {
    "id": "LjnjAha5AeHx"
   },
   "outputs": [],
   "source": [
    "random_seed = 5643\n",
    "np.random.seed(random_seed)\n",
    "random.seed(random_seed)"
   ]
  },
  {
   "cell_type": "markdown",
   "metadata": {
    "id": "i9KM7WQV4MDp"
   },
   "source": [
    "## Loading Data"
   ]
  },
  {
   "cell_type": "markdown",
   "metadata": {
    "id": "SNn6bHG4UzrK"
   },
   "source": [
    "### Loading training data"
   ]
  },
  {
   "cell_type": "code",
   "execution_count": 4,
   "metadata": {
    "id": "I1VAR-qm-6gU"
   },
   "outputs": [],
   "source": [
    "data_train = pd.read_csv(\"./celestial_train.csv\")"
   ]
  },
  {
   "cell_type": "markdown",
   "metadata": {
    "id": "lBkFk8W3neBn"
   },
   "source": [
    "### Separating X values for data_train"
   ]
  },
  {
   "cell_type": "code",
   "execution_count": 5,
   "metadata": {
    "id": "zkT2Gr_ym3a3"
   },
   "outputs": [],
   "source": [
    "data_trainX = data_train.loc[:,data_train.columns != 'class']"
   ]
  },
  {
   "cell_type": "markdown",
   "metadata": {
    "id": "HkGRBxm6nlTW"
   },
   "source": [
    "### Separating Y values for data_test"
   ]
  },
  {
   "cell_type": "code",
   "execution_count": 6,
   "metadata": {
    "id": "MqtRuMlNnoxk"
   },
   "outputs": [],
   "source": [
    "data_trainY = data_train[\"class\"]"
   ]
  },
  {
   "cell_type": "markdown",
   "metadata": {},
   "source": [
    "## Description of the Data\n",
    "\n",
    "Provided dataset consists of the following columns:"
   ]
  },
  {
   "cell_type": "markdown",
   "metadata": {},
   "source": [
    "`id` = Object Identifier, the unique value that identifies the object in the image catalog used by the CAS.\n",
    "\n",
    "`alpha` = Right Ascension angle (at J2000 epoch).\n",
    "\n",
    "`delta` = Declination angle (at J2000 epoch).\n",
    "\n",
    "`u` = Ultraviolet filter in the photometric system.\n",
    "\n",
    "`g` = Green filter in the photometric system.\n",
    "\n",
    "`r` = Red filter in the photometric system.\n",
    "\n",
    "`i` = Near Infrared filter in the photometric system.\n",
    "\n",
    "`z` = Infrared filter in the photometric system.\n",
    "\n",
    "`run_ID` = Run Number used to identify the specific scan.\n",
    "\n",
    "`rerun_ID` = Rerun Number to specify how the image was processed.\n",
    "\n",
    "`cam_col` = Camera column to identify the scanline within the run.\n",
    "\n",
    "`field_ID` = Field number to identify each field.\n",
    "\n",
    "`spec_obj_ID` = Unique ID used for optical spectroscopic objects (this means that 2 different observations with the same spec_obj_ID must share the output class).\n",
    "\n",
    "`redshift` = redshift value based on the increase in wavelength.\n",
    "\n",
    "`plate` = plate ID, identifies each plate in SDSS.\n",
    "\n",
    "`MJD` = Modified Julian Date, used to indicate when a given piece of SDSS data was taken.\n",
    "\n",
    "`fiber_ID` = fiber ID that identifies the fiber that pointed the light at the focal plane in each observation.\n",
    "\n",
    "`class` = object class [GALAXY: galaxy, STAR: star or QSO: quasar object].\n",
    "\n",
    "\n",
    "Acknowledgements:\n",
    "[Sloan Digital Sky Survey](https://www.sdss4.org/science/image-gallery/)"
   ]
  },
  {
   "cell_type": "markdown",
   "metadata": {
    "id": "xnSb1osD4QMQ"
   },
   "source": [
    "## Data Cleaning\n",
    "[Source](https://scikit-learn.org/stable/modules/generated/sklearn.preprocessing.LabelEncoder.html)"
   ]
  },
  {
   "cell_type": "markdown",
   "metadata": {
    "id": "LEFpgokIVvRc"
   },
   "source": [
    "### One hot encoding"
   ]
  },
  {
   "cell_type": "code",
   "execution_count": 7,
   "metadata": {
    "colab": {
     "base_uri": "https://localhost:8080/"
    },
    "executionInfo": {
     "elapsed": 130,
     "status": "ok",
     "timestamp": 1705689120064,
     "user": {
      "displayName": "Borys Łangowicz",
      "userId": "12650752160888855229"
     },
     "user_tz": 300
    },
    "id": "AMTLkGN82sAT",
    "outputId": "2ed267a2-c8e9-4fc7-dd68-d2e21e68398d"
   },
   "outputs": [
    {
     "data": {
      "text/plain": [
       "array([0, 0, 0, ..., 0, 0, 0])"
      ]
     },
     "execution_count": 7,
     "metadata": {},
     "output_type": "execute_result"
    }
   ],
   "source": [
    "le = LabelEncoder()\n",
    "le.fit(data_trainY)\n",
    "data_trainY = le.transform(data_trainY)\n",
    "data_trainY"
   ]
  },
  {
   "cell_type": "markdown",
   "metadata": {
    "id": "foCwcqwUnNTH"
   },
   "source": [
    "### Dropping insignificant columns (Determined by feature importance)\n",
    "\n",
    "We drop columns that were identified, as insignificant."
   ]
  },
  {
   "cell_type": "markdown",
   "metadata": {},
   "source": []
  },
  {
   "cell_type": "code",
   "execution_count": 8,
   "metadata": {
    "id": "GT_PIsFDhhaJ"
   },
   "outputs": [],
   "source": [
    "data_trainX = data_trainX.drop(columns=['id', 'fiber_ID', 'cam_col', 'rerun_ID', 'alpha', 'delta', 'run_ID', 'field_ID'])"
   ]
  },
  {
   "cell_type": "markdown",
   "metadata": {
    "id": "pVWqX9MG2m1z"
   },
   "source": [
    "# Pipeline\n",
    "\n",
    "We create main pipeline for the model."
   ]
  },
  {
   "cell_type": "markdown",
   "metadata": {},
   "source": [
    "### Train/Test split"
   ]
  },
  {
   "cell_type": "code",
   "execution_count": 9,
   "metadata": {
    "colab": {
     "base_uri": "https://localhost:8080/"
    },
    "executionInfo": {
     "elapsed": 95,
     "status": "ok",
     "timestamp": 1705690516302,
     "user": {
      "displayName": "Borys Łangowicz",
      "userId": "12650752160888855229"
     },
     "user_tz": 300
    },
    "id": "wJpNuE7S2o2H",
    "outputId": "75f037da-b960-4a4a-d499-2d8fc085d237"
   },
   "outputs": [],
   "source": [
    "if not generating_final_result:\n",
    "  X_train, X_test, y_train, y_test = train_test_split(\n",
    "      data_trainX,\n",
    "      data_trainY,\n",
    "      test_size=1/3,\n",
    "      random_state=0)\n",
    "\n",
    "  print(X_train.shape)\n",
    "  print(X_test.shape)\n",
    "else:\n",
    "  X_train = data_trainX\n",
    "  y_train = data_trainY"
   ]
  },
  {
   "cell_type": "markdown",
   "metadata": {},
   "source": [
    "We use RandomForest to classify the celestial objects."
   ]
  },
  {
   "cell_type": "code",
   "execution_count": 10,
   "metadata": {
    "colab": {
     "base_uri": "https://localhost:8080/"
    },
    "executionInfo": {
     "elapsed": 19851,
     "status": "ok",
     "timestamp": 1705689146572,
     "user": {
      "displayName": "Borys Łangowicz",
      "userId": "12650752160888855229"
     },
     "user_tz": 300
    },
    "id": "7MDLsnyQ2wJD",
    "outputId": "91db4d00-8fef-4aac-b604-dc8f6ec4d5d5"
   },
   "outputs": [
    {
     "name": "stderr",
     "output_type": "stream",
     "text": [
      "/opt/conda/lib/python3.11/site-packages/sklearn/svm/_base.py:1250: ConvergenceWarning: Liblinear failed to converge, increase the number of iterations.\n",
      "  warnings.warn(\n"
     ]
    },
    {
     "name": "stdout",
     "output_type": "stream",
     "text": [
      "Training set score: 1.0\n"
     ]
    }
   ],
   "source": [
    "pipe = \\\n",
    "Pipeline(steps=[('scaler', StandardScaler()),\n",
    "('selector',  SelectFromModel(LinearSVC(C=0.1, penalty=\"l1\", dual=False))),\n",
    "('classifier', RandomForestClassifier())])\n",
    "\n",
    "pipe.fit(X_train,y_train)\n",
    "if not generating_final_result:\n",
    "  y_pred = pipe.predict(X_test)\n",
    "\n",
    "print('Training set score: ' + str(pipe.score(X_train,y_train)))\n",
    "if not generating_final_result:\n",
    "  print('Test set score: ' + str(pipe.score(X_test,y_test)))\n",
    "\n",
    "if not generating_final_result:\n",
    "  print()\n",
    "  print(\"Accuracy on test data:\", accuracy_score(y_test, y_pred))\n",
    "  print(\"Ballanced accuracy on test data:\", balanced_accuracy_score(y_test, y_pred))"
   ]
  },
  {
   "cell_type": "markdown",
   "metadata": {
    "id": "QYpSwPm0D6z2"
   },
   "source": [
    "# Optimization"
   ]
  },
  {
   "cell_type": "code",
   "execution_count": 11,
   "metadata": {
    "id": "Nj0CGpsgD57t"
   },
   "outputs": [],
   "source": [
    "parameters = {'scaler': [StandardScaler(), MinMaxScaler(),\n",
    "              Normalizer(), MaxAbsScaler()],\n",
    "              'classifier__max_depth': [2,4,6],\n",
    "              'classifier__min_samples_leaf': [x for x in range(1,10)],\n",
    "              }"
   ]
  },
  {
   "cell_type": "markdown",
   "metadata": {},
   "source": [
    "Calculating accuracy of the model"
   ]
  },
  {
   "cell_type": "code",
   "execution_count": 12,
   "metadata": {
    "colab": {
     "base_uri": "https://localhost:8080/"
    },
    "executionInfo": {
     "elapsed": 973808,
     "status": "ok",
     "timestamp": 1705690129432,
     "user": {
      "displayName": "Borys Łangowicz",
      "userId": "12650752160888855229"
     },
     "user_tz": 300
    },
    "id": "-XCZXDx0EKsN",
    "outputId": "6223855b-63a6-4417-df1f-26023193afa9"
   },
   "outputs": [],
   "source": [
    "if not generating_final_result:\n",
    "  grid = GridSearchCV(pipe, parameters, cv=2).fit(X_train, y_train)\n",
    "\n",
    "  y_pred = grid.predict(X_test)\n",
    "\n",
    "  print('Training set score: ' + str(grid.score(X_train, y_train)))\n",
    "  print('Test set score: ' + str(grid.score(X_test, y_test)))\n",
    "  print()\n",
    "  print(\"Accuracy on test data:\", accuracy_score(y_test, y_pred))\n",
    "  print(\"Ballanced accuracy on test data:\", balanced_accuracy_score(y_test, y_pred))"
   ]
  },
  {
   "cell_type": "markdown",
   "metadata": {},
   "source": [
    "Determining featrue importance"
   ]
  },
  {
   "cell_type": "code",
   "execution_count": 13,
   "metadata": {
    "colab": {
     "base_uri": "https://localhost:8080/"
    },
    "executionInfo": {
     "elapsed": 86,
     "status": "ok",
     "timestamp": 1705690149957,
     "user": {
      "displayName": "Borys Łangowicz",
      "userId": "12650752160888855229"
     },
     "user_tz": 300
    },
    "id": "paXehsqCErCP",
    "outputId": "2fdda814-3f70-4a53-f27b-05a01ec4971f"
   },
   "outputs": [],
   "source": [
    "if not generating_final_result:\n",
    "    # Access the best set of parameters\n",
    "    best_params = grid.best_params_\n",
    "    print(best_params)\n",
    "    # Stores the optimum model in best_pipe\n",
    "    best_pipe = grid.best_estimator_\n",
    "    print(best_pipe)"
   ]
  },
  {
   "cell_type": "markdown",
   "metadata": {},
   "source": [
    "We decided to drop the following columns:\n",
    "\n",
    "`id`, `fiber_ID`, `cam_col`, `rerun_ID`, `alpha`, `delta`, `run_ID`, `field_ID`"
   ]
  },
  {
   "cell_type": "markdown",
   "metadata": {
    "id": "OiVQkubLp4_s"
   },
   "source": [
    "## Creating data for submission\n",
    "\n",
    "Loading, standarizing and preparing results for the final submission for the datathon"
   ]
  },
  {
   "cell_type": "markdown",
   "metadata": {
    "id": "tuKhke7_qGbq"
   },
   "source": [
    "### Loading test data"
   ]
  },
  {
   "cell_type": "code",
   "execution_count": 14,
   "metadata": {
    "id": "SpHxhem8tCs1"
   },
   "outputs": [],
   "source": [
    "data_test = pd.read_csv(\"./celestial_test.csv\")\n",
    "ids = data_test.iloc[:,0]"
   ]
  },
  {
   "cell_type": "code",
   "execution_count": 15,
   "metadata": {},
   "outputs": [],
   "source": [
    "data_test = data_test.drop(columns=['id', 'fiber_ID', 'cam_col', 'rerun_ID', 'alpha', 'delta', 'run_ID', 'field_ID'])"
   ]
  },
  {
   "cell_type": "markdown",
   "metadata": {},
   "source": [
    "## Predicting"
   ]
  },
  {
   "cell_type": "code",
   "execution_count": 16,
   "metadata": {
    "colab": {
     "base_uri": "https://localhost:8080/",
     "height": 445
    },
    "executionInfo": {
     "elapsed": 116,
     "status": "error",
     "timestamp": 1705690210381,
     "user": {
      "displayName": "Borys Łangowicz",
      "userId": "12650752160888855229"
     },
     "user_tz": 300
    },
    "id": "_4qNv1A0utZy",
    "outputId": "7b4e8602-4cdd-48c9-8782-cf7f2a4d8c16"
   },
   "outputs": [],
   "source": [
    "y_pred = pipe.predict(data_test)"
   ]
  },
  {
   "cell_type": "code",
   "execution_count": 17,
   "metadata": {
    "id": "df3a7qZ6X4ma"
   },
   "outputs": [],
   "source": [
    "y_pred = le.inverse_transform(y_pred)"
   ]
  },
  {
   "cell_type": "markdown",
   "metadata": {
    "id": "ay6LQy_zqRVB"
   },
   "source": [
    "### Saving predictions to CSV\n",
    "\n",
    "We save final predictions to a file to be submitted."
   ]
  },
  {
   "cell_type": "markdown",
   "metadata": {},
   "source": []
  },
  {
   "cell_type": "code",
   "execution_count": 18,
   "metadata": {
    "colab": {
     "base_uri": "https://localhost:8080/",
     "height": 424
    },
    "executionInfo": {
     "elapsed": 192,
     "status": "ok",
     "timestamp": 1705561288671,
     "user": {
      "displayName": "Borys Łangowicz",
      "userId": "12650752160888855229"
     },
     "user_tz": 300
    },
    "id": "h9gDx5W4uvqa",
    "outputId": "689c4d17-82a7-4911-dc6e-54dd3e440dce"
   },
   "outputs": [
    {
     "data": {
      "text/html": [
       "<div>\n",
       "<style scoped>\n",
       "    .dataframe tbody tr th:only-of-type {\n",
       "        vertical-align: middle;\n",
       "    }\n",
       "\n",
       "    .dataframe tbody tr th {\n",
       "        vertical-align: top;\n",
       "    }\n",
       "\n",
       "    .dataframe thead th {\n",
       "        text-align: right;\n",
       "    }\n",
       "</style>\n",
       "<table border=\"1\" class=\"dataframe\">\n",
       "  <thead>\n",
       "    <tr style=\"text-align: right;\">\n",
       "      <th></th>\n",
       "      <th>id</th>\n",
       "      <th>output</th>\n",
       "    </tr>\n",
       "  </thead>\n",
       "  <tbody>\n",
       "    <tr>\n",
       "      <th>0</th>\n",
       "      <td>50000</td>\n",
       "      <td>QSO</td>\n",
       "    </tr>\n",
       "    <tr>\n",
       "      <th>1</th>\n",
       "      <td>50001</td>\n",
       "      <td>GALAXY</td>\n",
       "    </tr>\n",
       "    <tr>\n",
       "      <th>2</th>\n",
       "      <td>50002</td>\n",
       "      <td>QSO</td>\n",
       "    </tr>\n",
       "    <tr>\n",
       "      <th>3</th>\n",
       "      <td>50003</td>\n",
       "      <td>GALAXY</td>\n",
       "    </tr>\n",
       "    <tr>\n",
       "      <th>4</th>\n",
       "      <td>50004</td>\n",
       "      <td>STAR</td>\n",
       "    </tr>\n",
       "    <tr>\n",
       "      <th>...</th>\n",
       "      <td>...</td>\n",
       "      <td>...</td>\n",
       "    </tr>\n",
       "    <tr>\n",
       "      <th>49995</th>\n",
       "      <td>99995</td>\n",
       "      <td>GALAXY</td>\n",
       "    </tr>\n",
       "    <tr>\n",
       "      <th>49996</th>\n",
       "      <td>99996</td>\n",
       "      <td>STAR</td>\n",
       "    </tr>\n",
       "    <tr>\n",
       "      <th>49997</th>\n",
       "      <td>99997</td>\n",
       "      <td>QSO</td>\n",
       "    </tr>\n",
       "    <tr>\n",
       "      <th>49998</th>\n",
       "      <td>99998</td>\n",
       "      <td>GALAXY</td>\n",
       "    </tr>\n",
       "    <tr>\n",
       "      <th>49999</th>\n",
       "      <td>99999</td>\n",
       "      <td>GALAXY</td>\n",
       "    </tr>\n",
       "  </tbody>\n",
       "</table>\n",
       "<p>50000 rows × 2 columns</p>\n",
       "</div>"
      ],
      "text/plain": [
       "          id  output\n",
       "0      50000     QSO\n",
       "1      50001  GALAXY\n",
       "2      50002     QSO\n",
       "3      50003  GALAXY\n",
       "4      50004    STAR\n",
       "...      ...     ...\n",
       "49995  99995  GALAXY\n",
       "49996  99996    STAR\n",
       "49997  99997     QSO\n",
       "49998  99998  GALAXY\n",
       "49999  99999  GALAXY\n",
       "\n",
       "[50000 rows x 2 columns]"
      ]
     },
     "execution_count": 18,
     "metadata": {},
     "output_type": "execute_result"
    }
   ],
   "source": [
    "return_dataset = pd.DataFrame({'id': ids, 'output': y_pred}, columns=['id', 'output'])\n",
    "return_dataset"
   ]
  },
  {
   "cell_type": "code",
   "execution_count": 19,
   "metadata": {
    "id": "qGeMZoox07gy"
   },
   "outputs": [],
   "source": [
    "return_dataset.to_csv(\"celestial_solutions.csv\", index = False)"
   ]
  }
 ],
 "metadata": {
  "colab": {
   "collapsed_sections": [
    "vOYTvQc7AJq5",
    "AW3D251J-YO6"
   ],
   "provenance": []
  },
  "kernelspec": {
   "display_name": "Python 3 (ipykernel)",
   "language": "python",
   "name": "python3"
  },
  "language_info": {
   "codemirror_mode": {
    "name": "ipython",
    "version": 3
   },
   "file_extension": ".py",
   "mimetype": "text/x-python",
   "name": "python",
   "nbconvert_exporter": "python",
   "pygments_lexer": "ipython3",
   "version": "3.11.6"
  }
 },
 "nbformat": 4,
 "nbformat_minor": 4
}
